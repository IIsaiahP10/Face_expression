{
 "cells": [
  {
   "cell_type": "code",
   "execution_count": 12,
   "metadata": {},
   "outputs": [],
   "source": [
    "import cv2\n",
    "import os\n",
    "\n",
    "\n",
    "def length_of_mp4(video_path):\n",
    "    cap = cv2.VideoCapture(video_path)\n",
    "    length = int(cap.get(cv2.CAP_PROP_FRAME_COUNT))\n",
    "    return length\n",
    "\n",
    "def get_frames(video_path, frame_path, skip_frames = 50):\n",
    "    _, file_name= os.path.split(video_path)\n",
    "    file_name_no_ext = os.path.splitext(file_name)[0]\n",
    "\n",
    "    length = length_of_mp4(video_path)\n",
    "    print(length)\n",
    "    if length == 0:\n",
    "        print(\"Error no video\")\n",
    "        return 0\n",
    "    \n",
    "\n",
    "    cap = cv2.VideoCapture(video_path)\n",
    "    count = 0\n",
    "    success,image = cap.read()\n",
    "    test_file_path = os.path.join(frame_path, 'frame%d.jpg' % count)\n",
    "    print(test_file_path)\n",
    "    cv2.imwrite(test_file_path, image)\n",
    "    if(os.path.isfile(test_file_path)):\n",
    "        print('Saving test frames was succesful, continues extracting frames')\n",
    "        count = 1\n",
    "        while success:\n",
    "            success,image = cap.read()\n",
    "            if success and count % skip_frames == 0:\n",
    "                file_path = os.path.join(frame_path, 'frame%d.jpg' % count)\n",
    "                cv2.imwrite(file_path, image)\n",
    "                count+=1\n",
    "            else:\n",
    "                count+=1\n",
    "\n",
    "\n",
    "\n",
    "    else:\n",
    "        print(\"Error saving test frame, abort process\")\n",
    "        return 0\n",
    "    \n",
    "\n",
    "    cap.release()\n",
    "    print(\"----------FINISHED EXTRACTION---------------\")\n",
    "   \n",
    "   \n",
    "\n",
    "\n",
    "\n",
    "\n",
    "\n",
    "\n",
    "\n",
    "\n",
    "\n",
    "\n",
    "\n",
    "\n",
    "\n",
    "\n"
   ]
  },
  {
   "cell_type": "code",
   "execution_count": 13,
   "metadata": {},
   "outputs": [
    {
     "name": "stdout",
     "output_type": "stream",
     "text": [
      "00001.mp4\n",
      "33843\n",
      "output\\frame0.jpg\n",
      "Saving test frames was succesful, continues extracting frames\n",
      "----------FINISHED EXTRACTION---------------\n"
     ]
    }
   ],
   "source": [
    "mp4 = ['00001.mp4']\n",
    "save_path = \"output\"\n",
    "for file in mp4:\n",
    "    print(file)\n",
    "    get_frames(file, save_path, skip_frames=50)"
   ]
  }
 ],
 "metadata": {
  "interpreter": {
   "hash": "5209b356a4ca6402f172b04abcf4281b8189bb2d8dadb77d13c6c61442b6d3a6"
  },
  "kernelspec": {
   "display_name": "Python 3.9.7 ('base')",
   "language": "python",
   "name": "python3"
  },
  "language_info": {
   "codemirror_mode": {
    "name": "ipython",
    "version": 3
   },
   "file_extension": ".py",
   "mimetype": "text/x-python",
   "name": "python",
   "nbconvert_exporter": "python",
   "pygments_lexer": "ipython3",
   "version": "3.9.7"
  },
  "orig_nbformat": 4
 },
 "nbformat": 4,
 "nbformat_minor": 2
}
