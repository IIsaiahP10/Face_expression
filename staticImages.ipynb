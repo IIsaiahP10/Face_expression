{
 "cells": [
  {
   "cell_type": "code",
   "execution_count": 7,
   "metadata": {},
   "outputs": [
    {
     "name": "stdout",
     "output_type": "stream",
     "text": [
      "Output/elon.png\n",
      "Output/elon2.png\n",
      "1\n",
      "Nose tip:\n",
      "x: 0.5500351786613464\n",
      "y: 0.507448136806488\n",
      "\n",
      "2\n",
      "Nose tip:\n",
      "x: 0.6071471571922302\n",
      "y: 0.47620466351509094\n",
      "\n"
     ]
    }
   ],
   "source": [
    "import cv2\n",
    "import mediapipe as mp\n",
    "import os \n",
    "from os import listdir\n",
    "mp_face_detection = mp.solutions.face_detection\n",
    "mp_drawing = mp.solutions.drawing_utils\n",
    "\n",
    "\n",
    "\n",
    "folder_dir = 'C:/Users/idont/GitHubRepos/Face_expression/Output'\n",
    "IMAGE_FILES = []\n",
    "for images in os.listdir(folder_dir):\n",
    " \n",
    "    # check if the image end swith png or jpg or jpeg\n",
    "    if (images.endswith(\".png\") or images.endswith(\".jpg\")\\\n",
    "        or images.endswith(\".jpeg\")):\n",
    "        # display\n",
    "        IMAGE_FILES.append('Output/' + images)\n",
    "\n",
    "count = 0\n",
    "encodedList = []\n",
    "print(IMAGE_FILES[0])\n",
    "print(IMAGE_FILES[1])\n",
    "# For static images:\n",
    "with mp_face_detection.FaceDetection(\n",
    "    model_selection=1, min_detection_confidence=0.5) as face_detection:\n",
    "  for idx, file in enumerate(IMAGE_FILES):\n",
    "    count = count + 1\n",
    "    print(count)\n",
    "    image = cv2.imread(file)\n",
    "    # Convert the BGR image to RGB and process it with MediaPipe Face Detection.\n",
    "    results = face_detection.process(cv2.cvtColor(image, cv2.COLOR_BGR2RGB))\n",
    "\n",
    "    # Draw face detections of each face.\n",
    "    if not results.detections:\n",
    "      continue\n",
    "    annotated_image = image.copy()\n",
    "    for detection in results.detections:\n",
    "      print('Nose tip:')\n",
    "      print(mp_face_detection.get_key_point(\n",
    "          detection, mp_face_detection.FaceKeyPoint.NOSE_TIP))\n",
    "      mp_drawing.draw_detection(annotated_image, detection)\n",
    "   \n",
    "    cv2.imwrite('/tmp/annotated_image' + str(idx) + '.png', annotated_image)\n",
    "    cv2.imshow('bob',annotated_image)\n",
    "    cv2.waitKey(0); "
   ]
  },
  {
   "cell_type": "code",
   "execution_count": null,
   "metadata": {},
   "outputs": [],
   "source": []
  }
 ],
 "metadata": {
  "interpreter": {
   "hash": "8b8514a9184ccd3bd3daceaf4899f4665e232767086b95161966cd9bfc417315"
  },
  "kernelspec": {
   "display_name": "Python 3.8.3 ('base')",
   "language": "python",
   "name": "python3"
  },
  "language_info": {
   "codemirror_mode": {
    "name": "ipython",
    "version": 3
   },
   "file_extension": ".py",
   "mimetype": "text/x-python",
   "name": "python",
   "nbconvert_exporter": "python",
   "pygments_lexer": "ipython3",
   "version": "3.8.3"
  },
  "orig_nbformat": 4
 },
 "nbformat": 4,
 "nbformat_minor": 2
}
